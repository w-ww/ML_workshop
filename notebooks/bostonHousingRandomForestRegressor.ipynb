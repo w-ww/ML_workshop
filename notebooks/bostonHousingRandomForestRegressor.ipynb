{
 "cells": [
  {
   "cell_type": "markdown",
   "metadata": {},
   "source": [
    "# Random Forest Regression Example\n",
    "\n",
    "## Boston housing prices\n",
    "The objective is to predict the median price of a home in Boston.  The variables are crime rate, zoning information,\n",
    "proportion of non-retail business, etc.  This dataset has median prices in Boston for 1972.  Even though the data is pretty old, the methodology for analytics is valid for more recent datasets.\n",
    "\n",
    "<b>The purpose of this demonstration is to show the use of SAP HANA's Predictive Analytics Library to created Random forest model.</b>\n",
    "\n",
    "The dataset is from Kaggle.\n",
    "\n",
    "## Housing Values in Suburbs of Boston in 1972\n",
    "\n",
    "The <font color='red'>medv</font> variable is the target variable.\n",
    "### Data description\n",
    "The Boston data frame has 506 rows and 14 columns.\n",
    "This data frame contains the following columns:\n",
    "1. __crim__: per capita crime rate by town.\n",
    "2. __zn__: proportion of residential land zoned for lots over 25,000 sq.ft.\n",
    "3. __indus__: proportion of non-retail business acres per town.\n",
    "4. __chas__: Charles River dummy variable (1 if tract bounds river; 0 otherwise).\n",
    "5. __nox__: nitrogen oxides concentration (parts per 10 million).\n",
    "6. __rm__: average number of rooms per dwelling.\n",
    "7. __age__: proportion of owner-occupied units built prior to 1940.\n",
    "8. __dis__: weighted mean of distances to five Boston employment centres.\n",
    "9. __rad__: index of accessibility to radial highways.\n",
    "10. __tax__: full-value property-tax rate per \\$10000\n",
    "11. __ptratio__: pupil-teacher ratio by town.\n",
    "12. __black__: 1000(Bk - 0.63)^2 where Bk is the proportion of blacks by town.\n",
    "13. __lstat__: lower status of the population (percent).\n",
    "14. __medv__: median value of owner-occupied homes in $1000s.\n",
    "</td></tr></table>\n",
    "\n",
    "### Factoids\n",
    "The prices in Boston across years is below.  If we had a historical dataset, an analysis could be done to account for the macro trends as well.\n",
    "\n",
    "The second graph shows the intuition we have with respect to prices in relation to crime rate.  It is expected that house prices will be lower in areas where crime rates are higher.\n",
    "\n",
    "The third figure is a chart showing how inflation may affect prices.  So, for deeper analysis and prediction, we may want to consider inflation.\n",
    "\n",
    "In this notebook, these factors are not considered.  They are here to demonstrate the need for deep domain analysis.\n",
    "\n",
    "<table><tr>\n",
    "<td><img src=\"images/boston_prices_by_year.png\" alt=\"Boston home prices\" title=\"Boston housing prices\" style=\"float:left;\" /></td>\n",
    "<td><img src=\"images/Crime-Rate-and-Median-House-Prices.png\" alt=\"Boston home prices\" title=\"Boston housing prices\"  /></td>\n",
    "<td><img src=\"images/Inflation_Adjusted_Housing_Prices_1890_2006.jpg\" alt=\"Inflation adjusted prices\" title=\"Inflation adjusted prices\" style=\"float:left;\" />\n",
    "</td></tr></table>\n",
    "\n",
    "\n",
    "In this notebook, we will use the dataset for Boston housing prices and predict the price based on numerous factors."
   ]
  },
  {
   "cell_type": "code",
   "execution_count": 1,
   "metadata": {},
   "outputs": [],
   "source": [
    "from hana_ml import dataframe\n",
    "from hana_ml.algorithms import clustering\n",
    "from hana_ml.algorithms import trees\n",
    "import numpy as np\n",
    "import matplotlib.pyplot as plt\n",
    "import logging"
   ]
  },
  {
   "cell_type": "markdown",
   "metadata": {},
   "source": [
    "## Load data\n",
    "The data is loaded into 4 tables, for full, training, validation, and test sets:\n",
    "<li>BOSTON_HOUSING_PRICES</li>\n",
    "<li>BOSTON_HOUSING_PRICES_TRAINING</li>\n",
    "<li>BOSTON_HOUSING_PRICES_VALIDATION</li>\n",
    "<li>BOSTON_HOUSING_PRICES_TEST</li>\n",
    "\n",
    "To do that, a connection is created and passed to the loader.\n",
    "\n",
    "There is a config file, config/e2edata.ini that controls the connection parameters and whether or not to reload the data from scratch.  In case the data is already loaded, there would be no need to load the data.  A sample section is below.  If the config parameter, reload_data is true then the tables for test, training, and validation are (re-)created and data inserted into them.\n",
    "\n",
    "Although this ini file has other sections, please do not modify them. Only the [hana] section should be modified.\n",
    "\n",
    "#########################<br>\n",
    "[hana]<br>\n",
    "url=host.sjc.sap.corp<br>\n",
    "user=username<br>\n",
    "passwd=userpassword<br>\n",
    "port=3xx15<br>\n",
    "#########################<br>"
   ]
  },
  {
   "cell_type": "code",
   "execution_count": 2,
   "metadata": {},
   "outputs": [],
   "source": [
    "from data_load_utils import DataSets, Settings\n",
    "url, port, user, pwd = Settings.load_config(\"../config/e2edata.ini\")\n",
    "connection_context = dataframe.ConnectionContext(url, port, user, pwd)\n",
    "full_tbl, training_tbl, validation_tbl, test_tbl = DataSets.load_boston_housing_data(connection_context)"
   ]
  },
  {
   "cell_type": "markdown",
   "metadata": {},
   "source": [
    "# Create Data Frames\n",
    "Create the data frames for the full, test, training, and validation sets.\n",
    "\n",
    "Let us also do some dtaa exploration."
   ]
  },
  {
   "cell_type": "markdown",
   "metadata": {},
   "source": [
    "## Define Datasets - Training, validation, and test sets\n",
    "Data frames are used keep references to data so computation on large data sets in HANA can happen in HANA.  Trying to bring the entire data set into the client will likely result in out of memory exceptions.\n",
    "\n",
    "The original/full dataset is split into training, test and validation sets.  In the example below, they reside in different tables."
   ]
  },
  {
   "cell_type": "code",
   "execution_count": 3,
   "metadata": {},
   "outputs": [],
   "source": [
    "full_set = connection_context.table(full_tbl)\n",
    "training_set = connection_context.table(training_tbl)\n",
    "validation_set = connection_context.table(validation_tbl)\n",
    "test_set = connection_context.table(test_tbl)"
   ]
  },
  {
   "cell_type": "markdown",
   "metadata": {},
   "source": [
    "## Simple Exploration\n",
    "Let us look at the number of rows in the data set"
   ]
  },
  {
   "cell_type": "code",
   "execution_count": 4,
   "metadata": {},
   "outputs": [
    {
     "name": "stdout",
     "output_type": "stream",
     "text": [
      "Number of rows in full set: 506\n",
      "Number of rows in training set: 315\n",
      "Number of rows in validation set: 64\n",
      "Number of rows in test set: 127\n"
     ]
    }
   ],
   "source": [
    "print('Number of rows in full set: {}'.format(full_set.count()))\n",
    "print('Number of rows in training set: {}'.format(training_set.count()))\n",
    "print('Number of rows in validation set: {}'.format(validation_set.count()))\n",
    "print('Number of rows in test set: {}'.format(test_set.count()))"
   ]
  },
  {
   "cell_type": "markdown",
   "metadata": {},
   "source": [
    "### Let's look at the columns"
   ]
  },
  {
   "cell_type": "code",
   "execution_count": 5,
   "metadata": {},
   "outputs": [
    {
     "name": "stdout",
     "output_type": "stream",
     "text": [
      "['CRIM', 'ZN', 'INDUS', 'CHAS', 'NOX', 'RM', 'AGE', 'DIS', 'RAD', 'TAX', 'PTRATIO', 'BLACK', 'LSTAT', 'MEDV', 'ID']\n"
     ]
    }
   ],
   "source": [
    "print(full_set.columns)"
   ]
  },
  {
   "cell_type": "markdown",
   "metadata": {},
   "source": [
    "### Let's look at the data types"
   ]
  },
  {
   "cell_type": "code",
   "execution_count": 6,
   "metadata": {},
   "outputs": [
    {
     "data": {
      "text/plain": [
       "[('CRIM', 'DECIMAL', 12),\n",
       " ('ZN', 'DECIMAL', 7),\n",
       " ('INDUS', 'DECIMAL', 7),\n",
       " ('CHAS', 'SMALLINT', 5),\n",
       " ('NOX', 'DECIMAL', 10),\n",
       " ('RM', 'DECIMAL', 8),\n",
       " ('AGE', 'DECIMAL', 7),\n",
       " ('DIS', 'DECIMAL', 11),\n",
       " ('RAD', 'TINYINT', 3),\n",
       " ('TAX', 'SMALLINT', 5),\n",
       " ('PTRATIO', 'DECIMAL', 6),\n",
       " ('BLACK', 'DECIMAL', 9),\n",
       " ('LSTAT', 'DECIMAL', 7),\n",
       " ('MEDV', 'DECIMAL', 6),\n",
       " ('ID', 'INT', 10)]"
      ]
     },
     "execution_count": 6,
     "metadata": {},
     "output_type": "execute_result"
    }
   ],
   "source": [
    "full_set.dtypes()"
   ]
  },
  {
   "cell_type": "markdown",
   "metadata": {},
   "source": [
    "### Set up the features and labels for the model"
   ]
  },
  {
   "cell_type": "code",
   "execution_count": 7,
   "metadata": {},
   "outputs": [],
   "source": [
    "features=['CRIM', 'ZN', 'INDUS', 'CHAS', 'NOX', 'RM', 'AGE', 'DIS', 'RAD', 'TAX', 'PTRATIO', 'BLACK', 'LSTAT']\n",
    "label='MEDV'"
   ]
  },
  {
   "cell_type": "markdown",
   "metadata": {},
   "source": [
    "# Create model using training data\n",
    "For demonstration, we will create two models, model and model_with_id, one where we have a unique id in the training set and one where there is none.\n",
    "\n",
    "We are using Random Forest regression and SVM routines in this example\n",
    "\n",
    "Documentation is <a href=\"https://help.sap.com/http.svc/rc/DRAFT/3f0dbe754b194c42a6bf3405697b711f/2.0.031/en-US/html/index.html\">here</a>"
   ]
  },
  {
   "cell_type": "markdown",
   "metadata": {},
   "source": [
    "## Preprocessing\n",
    "SAP HANA Predictive Analytics Library takes DOUBLE and INTEGER data types for most numeric types.  Since we have DECIMALs and TINYINTs in our data set, we cast them to the types required by PAL."
   ]
  },
  {
   "cell_type": "code",
   "execution_count": 8,
   "metadata": {},
   "outputs": [
    {
     "data": {
      "text/html": [
       "<div>\n",
       "<style scoped>\n",
       "    .dataframe tbody tr th:only-of-type {\n",
       "        vertical-align: middle;\n",
       "    }\n",
       "\n",
       "    .dataframe tbody tr th {\n",
       "        vertical-align: top;\n",
       "    }\n",
       "\n",
       "    .dataframe thead th {\n",
       "        text-align: right;\n",
       "    }\n",
       "</style>\n",
       "<table border=\"1\" class=\"dataframe\">\n",
       "  <thead>\n",
       "    <tr style=\"text-align: right;\">\n",
       "      <th></th>\n",
       "      <th>ID</th>\n",
       "      <th>CRIM</th>\n",
       "      <th>ZN</th>\n",
       "      <th>INDUS</th>\n",
       "      <th>CHAS</th>\n",
       "      <th>NOX</th>\n",
       "      <th>RM</th>\n",
       "      <th>AGE</th>\n",
       "      <th>DIS</th>\n",
       "      <th>RAD</th>\n",
       "      <th>TAX</th>\n",
       "      <th>PTRATIO</th>\n",
       "      <th>BLACK</th>\n",
       "      <th>LSTAT</th>\n",
       "      <th>MEDV</th>\n",
       "    </tr>\n",
       "  </thead>\n",
       "  <tbody>\n",
       "    <tr>\n",
       "      <th>0</th>\n",
       "      <td>350</td>\n",
       "      <td>0.02899</td>\n",
       "      <td>40.0</td>\n",
       "      <td>1.25</td>\n",
       "      <td>0</td>\n",
       "      <td>0.429</td>\n",
       "      <td>6.939</td>\n",
       "      <td>34.5</td>\n",
       "      <td>8.7921</td>\n",
       "      <td>1</td>\n",
       "      <td>335</td>\n",
       "      <td>19.7</td>\n",
       "      <td>389.85</td>\n",
       "      <td>5.89</td>\n",
       "      <td>26.6</td>\n",
       "    </tr>\n",
       "    <tr>\n",
       "      <th>1</th>\n",
       "      <td>128</td>\n",
       "      <td>0.25915</td>\n",
       "      <td>0.0</td>\n",
       "      <td>21.89</td>\n",
       "      <td>0</td>\n",
       "      <td>0.624</td>\n",
       "      <td>5.693</td>\n",
       "      <td>96.0</td>\n",
       "      <td>1.7883</td>\n",
       "      <td>4</td>\n",
       "      <td>437</td>\n",
       "      <td>21.2</td>\n",
       "      <td>392.11</td>\n",
       "      <td>17.19</td>\n",
       "      <td>16.2</td>\n",
       "    </tr>\n",
       "    <tr>\n",
       "      <th>2</th>\n",
       "      <td>351</td>\n",
       "      <td>0.06211</td>\n",
       "      <td>40.0</td>\n",
       "      <td>1.25</td>\n",
       "      <td>0</td>\n",
       "      <td>0.429</td>\n",
       "      <td>6.490</td>\n",
       "      <td>44.4</td>\n",
       "      <td>8.7921</td>\n",
       "      <td>1</td>\n",
       "      <td>335</td>\n",
       "      <td>19.7</td>\n",
       "      <td>396.90</td>\n",
       "      <td>5.98</td>\n",
       "      <td>22.9</td>\n",
       "    </tr>\n",
       "    <tr>\n",
       "      <th>3</th>\n",
       "      <td>352</td>\n",
       "      <td>0.07950</td>\n",
       "      <td>60.0</td>\n",
       "      <td>1.69</td>\n",
       "      <td>0</td>\n",
       "      <td>0.411</td>\n",
       "      <td>6.579</td>\n",
       "      <td>35.9</td>\n",
       "      <td>10.7103</td>\n",
       "      <td>4</td>\n",
       "      <td>411</td>\n",
       "      <td>18.3</td>\n",
       "      <td>370.78</td>\n",
       "      <td>5.49</td>\n",
       "      <td>24.1</td>\n",
       "    </tr>\n",
       "    <tr>\n",
       "      <th>4</th>\n",
       "      <td>129</td>\n",
       "      <td>0.32543</td>\n",
       "      <td>0.0</td>\n",
       "      <td>21.89</td>\n",
       "      <td>0</td>\n",
       "      <td>0.624</td>\n",
       "      <td>6.431</td>\n",
       "      <td>98.8</td>\n",
       "      <td>1.8125</td>\n",
       "      <td>4</td>\n",
       "      <td>437</td>\n",
       "      <td>21.2</td>\n",
       "      <td>396.90</td>\n",
       "      <td>15.39</td>\n",
       "      <td>18.0</td>\n",
       "    </tr>\n",
       "  </tbody>\n",
       "</table>\n",
       "</div>"
      ],
      "text/plain": [
       "    ID     CRIM    ZN  INDUS  CHAS    NOX     RM   AGE      DIS  RAD  TAX  \\\n",
       "0  350  0.02899  40.0   1.25     0  0.429  6.939  34.5   8.7921    1  335   \n",
       "1  128  0.25915   0.0  21.89     0  0.624  5.693  96.0   1.7883    4  437   \n",
       "2  351  0.06211  40.0   1.25     0  0.429  6.490  44.4   8.7921    1  335   \n",
       "3  352  0.07950  60.0   1.69     0  0.411  6.579  35.9  10.7103    4  411   \n",
       "4  129  0.32543   0.0  21.89     0  0.624  6.431  98.8   1.8125    4  437   \n",
       "\n",
       "   PTRATIO   BLACK  LSTAT  MEDV  \n",
       "0     19.7  389.85   5.89  26.6  \n",
       "1     21.2  392.11  17.19  16.2  \n",
       "2     19.7  396.90   5.98  22.9  \n",
       "3     18.3  370.78   5.49  24.1  \n",
       "4     21.2  396.90  15.39  18.0  "
      ]
     },
     "execution_count": 8,
     "metadata": {},
     "output_type": "execute_result"
    }
   ],
   "source": [
    "# Cast to correct types so PAL can consume it.\n",
    "dfts = training_set.cast(['CRIM', \"ZN\", \"INDUS\", \"NOX\", \"RM\", \"AGE\", \"DIS\", \"PTRATIO\", \"BLACK\", \"LSTAT\", \"MEDV\"], \"DOUBLE\")\n",
    "dfts = dfts.cast([\"CHAS\", \"RAD\", \"TAX\"], \"INTEGER\")\n",
    "dfts = dfts.to_head(\"ID\")\n",
    "dfts.head(5).collect()"
   ]
  },
  {
   "cell_type": "markdown",
   "metadata": {},
   "source": [
    "## Create the model\n",
    "Although we had seen graphically that only a few features had an impact on housing prices, let us use all the features to create a model.  We will then use the model to check for importance of the features."
   ]
  },
  {
   "cell_type": "code",
   "execution_count": 9,
   "metadata": {},
   "outputs": [],
   "source": [
    "# We build the model without IDs.  Project only the features and the label.\n",
    "df = dfts.select(features, label)\n",
    "model = trees.RandomForestRegressor(connection_context)\n",
    "model.fit(df, features=features, label=label)"
   ]
  },
  {
   "cell_type": "markdown",
   "metadata": {},
   "source": [
    "### SQL statements executed\n",
    "Calling PAL directly would require a number of SQL statements and all that is encapsulated in the Python library functions."
   ]
  },
  {
   "cell_type": "markdown",
   "metadata": {},
   "source": [
    "## Model analysis\n",
    "Let's just see what features are most important.\n",
    "Note that we are using a sort function.  The property __feature_importances___ is automatically set when the fit() method is called above."
   ]
  },
  {
   "cell_type": "code",
   "execution_count": 10,
   "metadata": {},
   "outputs": [
    {
     "data": {
      "text/html": [
       "<div>\n",
       "<style scoped>\n",
       "    .dataframe tbody tr th:only-of-type {\n",
       "        vertical-align: middle;\n",
       "    }\n",
       "\n",
       "    .dataframe tbody tr th {\n",
       "        vertical-align: top;\n",
       "    }\n",
       "\n",
       "    .dataframe thead th {\n",
       "        text-align: right;\n",
       "    }\n",
       "</style>\n",
       "<table border=\"1\" class=\"dataframe\">\n",
       "  <thead>\n",
       "    <tr style=\"text-align: right;\">\n",
       "      <th></th>\n",
       "      <th>VARIABLE_NAME</th>\n",
       "      <th>IMPORTANCE</th>\n",
       "    </tr>\n",
       "  </thead>\n",
       "  <tbody>\n",
       "    <tr>\n",
       "      <th>0</th>\n",
       "      <td>LSTAT</td>\n",
       "      <td>0.383455</td>\n",
       "    </tr>\n",
       "    <tr>\n",
       "      <th>1</th>\n",
       "      <td>RM</td>\n",
       "      <td>0.238314</td>\n",
       "    </tr>\n",
       "    <tr>\n",
       "      <th>2</th>\n",
       "      <td>NOX</td>\n",
       "      <td>0.107980</td>\n",
       "    </tr>\n",
       "    <tr>\n",
       "      <th>3</th>\n",
       "      <td>DIS</td>\n",
       "      <td>0.058459</td>\n",
       "    </tr>\n",
       "    <tr>\n",
       "      <th>4</th>\n",
       "      <td>CRIM</td>\n",
       "      <td>0.056335</td>\n",
       "    </tr>\n",
       "    <tr>\n",
       "      <th>5</th>\n",
       "      <td>PTRATIO</td>\n",
       "      <td>0.055621</td>\n",
       "    </tr>\n",
       "    <tr>\n",
       "      <th>6</th>\n",
       "      <td>INDUS</td>\n",
       "      <td>0.040576</td>\n",
       "    </tr>\n",
       "    <tr>\n",
       "      <th>7</th>\n",
       "      <td>TAX</td>\n",
       "      <td>0.023907</td>\n",
       "    </tr>\n",
       "    <tr>\n",
       "      <th>8</th>\n",
       "      <td>AGE</td>\n",
       "      <td>0.012597</td>\n",
       "    </tr>\n",
       "    <tr>\n",
       "      <th>9</th>\n",
       "      <td>BLACK</td>\n",
       "      <td>0.010642</td>\n",
       "    </tr>\n",
       "    <tr>\n",
       "      <th>10</th>\n",
       "      <td>RAD</td>\n",
       "      <td>0.007062</td>\n",
       "    </tr>\n",
       "    <tr>\n",
       "      <th>11</th>\n",
       "      <td>CHAS</td>\n",
       "      <td>0.003031</td>\n",
       "    </tr>\n",
       "    <tr>\n",
       "      <th>12</th>\n",
       "      <td>ZN</td>\n",
       "      <td>0.002022</td>\n",
       "    </tr>\n",
       "  </tbody>\n",
       "</table>\n",
       "</div>"
      ],
      "text/plain": [
       "   VARIABLE_NAME  IMPORTANCE\n",
       "0          LSTAT    0.383455\n",
       "1             RM    0.238314\n",
       "2            NOX    0.107980\n",
       "3            DIS    0.058459\n",
       "4           CRIM    0.056335\n",
       "5        PTRATIO    0.055621\n",
       "6          INDUS    0.040576\n",
       "7            TAX    0.023907\n",
       "8            AGE    0.012597\n",
       "9          BLACK    0.010642\n",
       "10           RAD    0.007062\n",
       "11          CHAS    0.003031\n",
       "12            ZN    0.002022"
      ]
     },
     "execution_count": 10,
     "metadata": {},
     "output_type": "execute_result"
    }
   ],
   "source": [
    "model.feature_importances_.sort(['IMPORTANCE'], desc=True).collect()"
   ]
  },
  {
   "cell_type": "markdown",
   "metadata": {},
   "source": [
    "__As you can see above, LSTAT, RM, NOX, and PTRATIO seem to have the most impact on prices.__"
   ]
  },
  {
   "cell_type": "markdown",
   "metadata": {},
   "source": [
    "# Predict using test set\n",
    "Let us now do some predictions and see how well the model generalizes.\n",
    "\n",
    "The predict() method always takes a unique identifier to identify the prediction on a specific data row.  This way, the caller (python programmer) can then join with the original data set to get the rest of the values for that unique row.  The test_set has columns of types that PAL does not deal with and therefore the columns are cast to the types that are accepted.\n",
    "\n",
    "In order to look at the predicted value as well as the true value, the name of the unique identifier for rows in the result table is renamed to PREDICTED_ID.  This result table is joined with the test set so the predicted and true value can be compared.\n",
    "\n",
    "For the predictions we look at the standard error.  The standard error is defined as the number of standard deviations away the prediction is from the true value."
   ]
  },
  {
   "cell_type": "code",
   "execution_count": 11,
   "metadata": {},
   "outputs": [],
   "source": [
    "df_test = test_set.cast(['CRIM', \"ZN\", \"INDUS\", \"NOX\", \"RM\", \"AGE\", \"DIS\", \"PTRATIO\", \"BLACK\", \"LSTAT\", \"MEDV\"], \"DOUBLE\")\n",
    "df_test = df_test.cast([\"CHAS\", \"RAD\", \"TAX\"], \"INTEGER\")\n",
    "df_test = df_test.to_head(\"ID\")"
   ]
  },
  {
   "cell_type": "code",
   "execution_count": 12,
   "metadata": {},
   "outputs": [],
   "source": [
    "# Note that we are renaming the column ID in the result of predict()\n",
    "result_df = model.predict(df_test, key= 'ID', features=features).with_column_renamed('ID', 'PREDICTED_ID')\n",
    "# Note the use of join() method to join two tables.\n",
    "jdf = result_df.join(test_set, '{}.\"PREDICTED_ID\"={}.\"ID\"'.format(result_df.name, test_set.name), how='inner')"
   ]
  },
  {
   "cell_type": "markdown",
   "metadata": {},
   "source": [
    "### Predictions\n",
    "Let us look at the predictions.  The predicted values are in 'SCORE' and the actual values are in 'MEDV'.  So, we just rename the 'SCORE' column to 'PREDICTED'\n",
    "\n",
    "In addition, the column 'CONFIDENCE' is the standard error which is the number of standard deviations away the actual values is from the predicted value.  This column is renamed to 'STANDARD_ERROR'"
   ]
  },
  {
   "cell_type": "code",
   "execution_count": 13,
   "metadata": {},
   "outputs": [
    {
     "data": {
      "text/html": [
       "<div>\n",
       "<style scoped>\n",
       "    .dataframe tbody tr th:only-of-type {\n",
       "        vertical-align: middle;\n",
       "    }\n",
       "\n",
       "    .dataframe tbody tr th {\n",
       "        vertical-align: top;\n",
       "    }\n",
       "\n",
       "    .dataframe thead th {\n",
       "        text-align: right;\n",
       "    }\n",
       "</style>\n",
       "<table border=\"1\" class=\"dataframe\">\n",
       "  <thead>\n",
       "    <tr style=\"text-align: right;\">\n",
       "      <th></th>\n",
       "      <th>ID</th>\n",
       "      <th>PREDICTED</th>\n",
       "      <th>MEDV</th>\n",
       "      <th>STANDARD_ERROR</th>\n",
       "    </tr>\n",
       "  </thead>\n",
       "  <tbody>\n",
       "    <tr>\n",
       "      <th>0</th>\n",
       "      <td>27</td>\n",
       "      <td>20.9803</td>\n",
       "      <td>16.6</td>\n",
       "      <td>1.479449</td>\n",
       "    </tr>\n",
       "    <tr>\n",
       "      <th>1</th>\n",
       "      <td>18</td>\n",
       "      <td>21.1336</td>\n",
       "      <td>17.5</td>\n",
       "      <td>1.511649</td>\n",
       "    </tr>\n",
       "    <tr>\n",
       "      <th>2</th>\n",
       "      <td>20</td>\n",
       "      <td>21.441</td>\n",
       "      <td>18.2</td>\n",
       "      <td>1.594741</td>\n",
       "    </tr>\n",
       "    <tr>\n",
       "      <th>3</th>\n",
       "      <td>22</td>\n",
       "      <td>21.3672</td>\n",
       "      <td>19.6</td>\n",
       "      <td>1.632264</td>\n",
       "    </tr>\n",
       "    <tr>\n",
       "      <th>4</th>\n",
       "      <td>78</td>\n",
       "      <td>22.0889</td>\n",
       "      <td>20.8</td>\n",
       "      <td>1.636449</td>\n",
       "    </tr>\n",
       "  </tbody>\n",
       "</table>\n",
       "</div>"
      ],
      "text/plain": [
       "   ID PREDICTED  MEDV  STANDARD_ERROR\n",
       "0  27   20.9803  16.6        1.479449\n",
       "1  18   21.1336  17.5        1.511649\n",
       "2  20    21.441  18.2        1.594741\n",
       "3  22   21.3672  19.6        1.632264\n",
       "4  78   22.0889  20.8        1.636449"
      ]
     },
     "execution_count": 13,
     "metadata": {},
     "output_type": "execute_result"
    }
   ],
   "source": [
    "jdf.select(['ID', 'SCORE', 'MEDV', 'CONFIDENCE']).with_column_renamed(\"CONFIDENCE\", \"STANDARD_ERROR\").with_column_renamed(\"SCORE\", \"PREDICTED\").sort(\"STANDARD_ERROR\", desc=False).head(5).collect()"
   ]
  },
  {
   "cell_type": "markdown",
   "metadata": {},
   "source": [
    "### Out of bag error\n",
    "Let us look at the out of bag errors which is a method of measuring the prediction error.\n",
    "\n",
    "Here we look at the first 4 rows"
   ]
  },
  {
   "cell_type": "code",
   "execution_count": 14,
   "metadata": {},
   "outputs": [
    {
     "data": {
      "text/html": [
       "<div>\n",
       "<style scoped>\n",
       "    .dataframe tbody tr th:only-of-type {\n",
       "        vertical-align: middle;\n",
       "    }\n",
       "\n",
       "    .dataframe tbody tr th {\n",
       "        vertical-align: top;\n",
       "    }\n",
       "\n",
       "    .dataframe thead th {\n",
       "        text-align: right;\n",
       "    }\n",
       "</style>\n",
       "<table border=\"1\" class=\"dataframe\">\n",
       "  <thead>\n",
       "    <tr style=\"text-align: right;\">\n",
       "      <th></th>\n",
       "      <th>TREE_INDEX</th>\n",
       "      <th>ERROR</th>\n",
       "    </tr>\n",
       "  </thead>\n",
       "  <tbody>\n",
       "    <tr>\n",
       "      <th>0</th>\n",
       "      <td>0</td>\n",
       "      <td>78.750356</td>\n",
       "    </tr>\n",
       "    <tr>\n",
       "      <th>1</th>\n",
       "      <td>1</td>\n",
       "      <td>55.338870</td>\n",
       "    </tr>\n",
       "    <tr>\n",
       "      <th>2</th>\n",
       "      <td>2</td>\n",
       "      <td>49.777954</td>\n",
       "    </tr>\n",
       "    <tr>\n",
       "      <th>3</th>\n",
       "      <td>3</td>\n",
       "      <td>53.140129</td>\n",
       "    </tr>\n",
       "  </tbody>\n",
       "</table>\n",
       "</div>"
      ],
      "text/plain": [
       "   TREE_INDEX      ERROR\n",
       "0           0  78.750356\n",
       "1           1  55.338870\n",
       "2           2  49.777954\n",
       "3           3  53.140129"
      ]
     },
     "execution_count": 14,
     "metadata": {},
     "output_type": "execute_result"
    }
   ],
   "source": [
    "model.oob_error_.head(4).collect()"
   ]
  },
  {
   "cell_type": "markdown",
   "metadata": {},
   "source": [
    "## Scoring\n",
    "We now score the results from are test data.  The scoring function we use is R^2.\n",
    "\n",
    "__In the function below, PAL is not invoked but a query is directly executed against data in HANA__"
   ]
  },
  {
   "cell_type": "code",
   "execution_count": 15,
   "metadata": {},
   "outputs": [
    {
     "name": "stdout",
     "output_type": "stream",
     "text": [
      "r2 score is 0.6749931999327062\n"
     ]
    }
   ],
   "source": [
    "r2_score = model.score(df_test, key='ID', features=features, label=label)\n",
    "print(\"r2 score is {}\".format(r2_score))"
   ]
  },
  {
   "cell_type": "markdown",
   "metadata": {},
   "source": [
    "## Model\n",
    "The model is available and can be saved for later predictions"
   ]
  },
  {
   "cell_type": "code",
   "execution_count": 16,
   "metadata": {},
   "outputs": [
    {
     "data": {
      "text/html": [
       "<div>\n",
       "<style scoped>\n",
       "    .dataframe tbody tr th:only-of-type {\n",
       "        vertical-align: middle;\n",
       "    }\n",
       "\n",
       "    .dataframe tbody tr th {\n",
       "        vertical-align: top;\n",
       "    }\n",
       "\n",
       "    .dataframe thead th {\n",
       "        text-align: right;\n",
       "    }\n",
       "</style>\n",
       "<table border=\"1\" class=\"dataframe\">\n",
       "  <thead>\n",
       "    <tr style=\"text-align: right;\">\n",
       "      <th></th>\n",
       "      <th>ROW_INDEX</th>\n",
       "      <th>TREE_INDEX</th>\n",
       "      <th>MODEL_CONTENT</th>\n",
       "    </tr>\n",
       "  </thead>\n",
       "  <tbody>\n",
       "    <tr>\n",
       "      <th>0</th>\n",
       "      <td>0</td>\n",
       "      <td>-1</td>\n",
       "      <td>&lt;PMML version=\"4.0\" xmlns=\"http://www.dmg.org/...</td>\n",
       "    </tr>\n",
       "    <tr>\n",
       "      <th>1</th>\n",
       "      <td>1</td>\n",
       "      <td>0</td>\n",
       "      <td>&lt;PMML version=\"4.0\" xmlns=\"http://www.dmg.org/...</td>\n",
       "    </tr>\n",
       "    <tr>\n",
       "      <th>2</th>\n",
       "      <td>2</td>\n",
       "      <td>1</td>\n",
       "      <td>&lt;PMML version=\"4.0\" xmlns=\"http://www.dmg.org/...</td>\n",
       "    </tr>\n",
       "    <tr>\n",
       "      <th>3</th>\n",
       "      <td>3</td>\n",
       "      <td>2</td>\n",
       "      <td>&lt;PMML version=\"4.0\" xmlns=\"http://www.dmg.org/...</td>\n",
       "    </tr>\n",
       "  </tbody>\n",
       "</table>\n",
       "</div>"
      ],
      "text/plain": [
       "   ROW_INDEX  TREE_INDEX                                      MODEL_CONTENT\n",
       "0          0          -1  <PMML version=\"4.0\" xmlns=\"http://www.dmg.org/...\n",
       "1          1           0  <PMML version=\"4.0\" xmlns=\"http://www.dmg.org/...\n",
       "2          2           1  <PMML version=\"4.0\" xmlns=\"http://www.dmg.org/...\n",
       "3          3           2  <PMML version=\"4.0\" xmlns=\"http://www.dmg.org/..."
      ]
     },
     "execution_count": 16,
     "metadata": {},
     "output_type": "execute_result"
    }
   ],
   "source": [
    "#  The generated model is in the database.\n",
    "model.model_.head(4).collect()"
   ]
  },
  {
   "cell_type": "code",
   "execution_count": null,
   "metadata": {},
   "outputs": [],
   "source": []
  }
 ],
 "metadata": {
  "kernelspec": {
   "display_name": "Python 2",
   "language": "python",
   "name": "python2"
  },
  "language_info": {
   "codemirror_mode": {
    "name": "ipython",
    "version": 2
   },
   "file_extension": ".py",
   "mimetype": "text/x-python",
   "name": "python",
   "nbconvert_exporter": "python",
   "pygments_lexer": "ipython2",
   "version": "2.7.15"
  }
 },
 "nbformat": 4,
 "nbformat_minor": 2
}
