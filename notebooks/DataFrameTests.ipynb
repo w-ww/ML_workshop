{
 "cells": [
  {
   "cell_type": "markdown",
   "metadata": {},
   "source": [
    "# Examples of DataFrame usage"
   ]
  },
  {
   "cell_type": "code",
   "execution_count": 1,
   "metadata": {
    "collapsed": true
   },
   "outputs": [],
   "source": [
    "from hana_ml import dataframe\n",
    "import numpy as np\n",
    "import logging"
   ]
  },
  {
   "cell_type": "markdown",
   "metadata": {},
   "source": [
    "## Setup connection and data sets\n",
    "Let us load some data into HAAN table.  The data is loaded into 4 tables - full set, test set, training set, and the validation set:\n",
    "<li>DBM2_RFULL_TBL</li>\n",
    "<li>DBM2_RTEST_TBL</li>\n",
    "<li>DBM2_RTRAINING_TBL</li>\n",
    "<li>DBM2_RVALIDATION_TBL</li>\n",
    "\n",
    "To do that, a connection is created and passed to the loader.\n",
    "\n",
    "There is a config file, <b>config/e2edata.ini</b> that controls the connection parameters and whether or not to reload the data from scratch.  In case the data is already loaded, there would be no need to load the data.  A sample section is below.  If the config parameter, reload_data is true then the tables for test, training, and validation are (re-)created and data inserted into them.\n",
    "\n",
    "#########################<br>\n",
    "[hana]<br>\n",
    "url=host.sjc.sap.corp<br>\n",
    "user=username<br>\n",
    "passwd=userpassword<br>\n",
    "port=3xx15<br>\n",
    "<br>\n",
    "\n",
    "#########################<br>"
   ]
  },
  {
   "cell_type": "code",
   "execution_count": 2,
   "metadata": {
    "collapsed": true
   },
   "outputs": [],
   "source": [
    "from data_load_utils import DataSets, Settings\n",
    "url, port, user, pwd = Settings.load_config(\"../config/e2edata.ini\")\n",
    "connection_context = dataframe.ConnectionContext(url, port, user, pwd)\n",
    "full_tbl, training_tbl, validation_tbl, test_tbl = DataSets.load_bank_data(connection_context)"
   ]
  },
  {
   "cell_type": "markdown",
   "metadata": {},
   "source": [
    "### Simple DataFrame"
   ]
  },
  {
   "cell_type": "code",
   "execution_count": 3,
   "metadata": {},
   "outputs": [
    {
     "name": "stdout",
     "output_type": "stream",
     "text": [
      "SELECT * FROM \"DBM2_RTRAINING_TBL\"\n"
     ]
    }
   ],
   "source": [
    "dataset1 = connection_context.table(training_tbl)\n",
    "# Alternatively, it could be any SELECT\n",
    "#dataset1 = connection_context.sql('SELECT * FROM \"{0}\"'.format(training_tbl))\n",
    "print(dataset1.select_statement)"
   ]
  },
  {
   "cell_type": "code",
   "execution_count": 4,
   "metadata": {},
   "outputs": [
    {
     "name": "stdout",
     "output_type": "stream",
     "text": [
      "<hana_ml.dataframe.DataFrame object at 0x000000000503CB00>\n"
     ]
    }
   ],
   "source": [
    "print(dataset1)"
   ]
  },
  {
   "cell_type": "markdown",
   "metadata": {},
   "source": [
    "### Drop duplicates"
   ]
  },
  {
   "cell_type": "code",
   "execution_count": 5,
   "metadata": {},
   "outputs": [
    {
     "name": "stdout",
     "output_type": "stream",
     "text": [
      "SELECT DISTINCT * FROM (SELECT * FROM \"DBM2_RTRAINING_TBL\") AS \"DT_0\"\n"
     ]
    }
   ],
   "source": [
    "dataset2 = dataset1.drop_duplicates()\n",
    "print(dataset2.select_statement)"
   ]
  },
  {
   "cell_type": "code",
   "execution_count": 6,
   "metadata": {},
   "outputs": [
    {
     "name": "stdout",
     "output_type": "stream",
     "text": [
      "['ID', 'AGE', 'JOB', 'MARITAL', 'EDUCATION', 'DBM_DEFAULT', 'HOUSING', 'LOAN', 'CONTACT', 'DBM_MONTH', 'DAY_OF_WEEK', 'DURATION', 'CAMPAIGN', 'PDAYS', 'PREVIOUS', 'POUTCOME', 'EMP_VAR_RATE', 'CONS_PRICE_IDX', 'CONS_CONF_IDX', 'EURIBOR3M', 'NREMPLOYED', 'LABEL']\n"
     ]
    }
   ],
   "source": [
    "print(dataset2.columns)"
   ]
  },
  {
   "cell_type": "markdown",
   "metadata": {},
   "source": [
    "### Drop a column"
   ]
  },
  {
   "cell_type": "code",
   "execution_count": 7,
   "metadata": {},
   "outputs": [
    {
     "name": "stdout",
     "output_type": "stream",
     "text": [
      "SELECT \"ID\", \"AGE\", \"JOB\", \"MARITAL\", \"EDUCATION\", \"DBM_DEFAULT\", \"HOUSING\", \"LOAN\", \"CONTACT\", \"DBM_MONTH\", \"DAY_OF_WEEK\", \"DURATION\", \"CAMPAIGN\", \"PDAYS\", \"PREVIOUS\", \"POUTCOME\", \"EMP_VAR_RATE\", \"CONS_PRICE_IDX\", \"CONS_CONF_IDX\", \"EURIBOR3M\", \"NREMPLOYED\" FROM (SELECT DISTINCT * FROM (SELECT * FROM \"DBM2_RTRAINING_TBL\") AS \"DT_0\") AS \"DT_1\"\n"
     ]
    }
   ],
   "source": [
    "dataset3 = dataset2.drop([\"LABEL\"])\n",
    "print(dataset3.select_statement)"
   ]
  },
  {
   "cell_type": "markdown",
   "metadata": {},
   "source": [
    "### Take null values and substitute with a specific value"
   ]
  },
  {
   "cell_type": "code",
   "execution_count": 8,
   "metadata": {},
   "outputs": [
    {
     "name": "stdout",
     "output_type": "stream",
     "text": [
      "SELECT \"ID\", COALESCE(\"AGE\", 25) AS \"AGE\", \"JOB\", \"MARITAL\", \"EDUCATION\", \"DBM_DEFAULT\", \"HOUSING\", \"LOAN\", \"CONTACT\", \"DBM_MONTH\", \"DAY_OF_WEEK\", \"DURATION\", \"CAMPAIGN\", \"PDAYS\", \"PREVIOUS\", \"POUTCOME\", \"EMP_VAR_RATE\", \"CONS_PRICE_IDX\", \"CONS_CONF_IDX\", \"EURIBOR3M\", \"NREMPLOYED\", \"LABEL\" FROM (SELECT DISTINCT * FROM (SELECT * FROM \"DBM2_RTRAINING_TBL\") AS \"DT_0\") dt\n"
     ]
    }
   ],
   "source": [
    "dataset4 = dataset2.fillna(25, [\"AGE\"])\n",
    "print(dataset4.select_statement)"
   ]
  },
  {
   "cell_type": "markdown",
   "metadata": {},
   "source": [
    "### Fetch 5 rows into client"
   ]
  },
  {
   "cell_type": "code",
   "execution_count": 9,
   "metadata": {},
   "outputs": [
    {
     "name": "stdout",
     "output_type": "stream",
     "text": [
      "      ID  AGE          JOB   MARITAL          EDUCATION DBM_DEFAULT HOUSING  \\\n",
      "0  27178   57    housemaid   married           basic.4y          no     yes   \n",
      "1  31377   39  blue-collar  divorced           basic.9y     unknown      no   \n",
      "2   5987   34  blue-collar   married           basic.9y          no      no   \n",
      "3  12963   41  blue-collar   married            unknown          no      no   \n",
      "4   5479   32   management   married  university.degree          no      no   \n",
      "\n",
      "  LOAN    CONTACT DBM_MONTH  ...   CAMPAIGN  PDAYS  PREVIOUS     POUTCOME  \\\n",
      "0   no   cellular       nov  ...          1    999         0  nonexistent   \n",
      "1   no   cellular       may  ...          2    999         0  nonexistent   \n",
      "2   no  telephone       may  ...          1    999         0  nonexistent   \n",
      "3  yes   cellular       jul  ...          1    999         0  nonexistent   \n",
      "4   no  telephone       may  ...          3    999         0  nonexistent   \n",
      "\n",
      "   EMP_VAR_RATE CONS_PRICE_IDX  CONS_CONF_IDX  EURIBOR3M  NREMPLOYED  LABEL  \n",
      "0          -0.1         93.200          -42.0      4.021        5195     no  \n",
      "1          -1.8         92.893          -46.2      1.334        5099     no  \n",
      "2           1.1         93.994          -36.4      4.857        5191     no  \n",
      "3           1.4         93.918          -42.7      4.962        5228     no  \n",
      "4           1.1         93.994          -36.4      4.857        5191     no  \n",
      "\n",
      "[5 rows x 22 columns]\n"
     ]
    }
   ],
   "source": [
    "print(dataset4.head(5).collect())"
   ]
  },
  {
   "cell_type": "markdown",
   "metadata": {},
   "source": [
    "### Fetch columns in a DataFrame"
   ]
  },
  {
   "cell_type": "code",
   "execution_count": 10,
   "metadata": {},
   "outputs": [
    {
     "name": "stdout",
     "output_type": "stream",
     "text": [
      "['ID', 'AGE', 'JOB', 'MARITAL', 'EDUCATION', 'DBM_DEFAULT', 'HOUSING', 'LOAN', 'CONTACT', 'DBM_MONTH', 'DAY_OF_WEEK', 'DURATION', 'CAMPAIGN', 'PDAYS', 'PREVIOUS', 'POUTCOME', 'EMP_VAR_RATE', 'CONS_PRICE_IDX', 'CONS_CONF_IDX', 'EURIBOR3M', 'NREMPLOYED', 'LABEL']\n"
     ]
    }
   ],
   "source": [
    "print(dataset4.columns)"
   ]
  },
  {
   "cell_type": "code",
   "execution_count": 11,
   "metadata": {},
   "outputs": [
    {
     "name": "stdout",
     "output_type": "stream",
     "text": [
      "      ID  AGE           JOB   MARITAL            EDUCATION DBM_DEFAULT  \\\n",
      "0  27178   57     housemaid   married             basic.4y          no   \n",
      "1  31377   39   blue-collar  divorced             basic.9y     unknown   \n",
      "2   5987   34   blue-collar   married             basic.9y          no   \n",
      "3  12963   41   blue-collar   married              unknown          no   \n",
      "4   5479   32    management   married    university.degree          no   \n",
      "5  33491   53    technician   married  professional.course          no   \n",
      "6  30259   56  entrepreneur   married    university.degree          no   \n",
      "7  35092   36    management  divorced    university.degree          no   \n",
      "8   7744   51   blue-collar   married              unknown     unknown   \n",
      "9  38755   29        admin.    single    university.degree          no   \n",
      "\n",
      "   HOUSING     LOAN    CONTACT DBM_MONTH  ...   CAMPAIGN  PDAYS  PREVIOUS  \\\n",
      "0      yes       no   cellular       nov  ...          1    999         0   \n",
      "1       no       no   cellular       may  ...          2    999         0   \n",
      "2       no       no  telephone       may  ...          1    999         0   \n",
      "3       no      yes   cellular       jul  ...          1    999         0   \n",
      "4       no       no  telephone       may  ...          3    999         0   \n",
      "5       no       no   cellular       may  ...          5    999         1   \n",
      "6      yes       no   cellular       apr  ...          1    999         0   \n",
      "7  unknown  unknown   cellular       may  ...          1    999         0   \n",
      "8      yes       no  telephone       may  ...          3    999         0   \n",
      "9       no      yes   cellular       nov  ...          1      3         1   \n",
      "\n",
      "      POUTCOME  EMP_VAR_RATE CONS_PRICE_IDX  CONS_CONF_IDX  EURIBOR3M  \\\n",
      "0  nonexistent          -0.1         93.200          -42.0      4.021   \n",
      "1  nonexistent          -1.8         92.893          -46.2      1.334   \n",
      "2  nonexistent           1.1         93.994          -36.4      4.857   \n",
      "3  nonexistent           1.4         93.918          -42.7      4.962   \n",
      "4  nonexistent           1.1         93.994          -36.4      4.857   \n",
      "5      failure          -1.8         92.893          -46.2      1.291   \n",
      "6  nonexistent          -1.8         93.075          -47.1      1.365   \n",
      "7  nonexistent          -1.8         92.893          -46.2      1.250   \n",
      "8  nonexistent           1.1         93.994          -36.4      4.864   \n",
      "9      success          -3.4         92.649          -30.1      0.715   \n",
      "\n",
      "   NREMPLOYED  LABEL  \n",
      "0        5195     no  \n",
      "1        5099     no  \n",
      "2        5191     no  \n",
      "3        5228     no  \n",
      "4        5191     no  \n",
      "5        5099     no  \n",
      "6        5099     no  \n",
      "7        5099     no  \n",
      "8        5191     no  \n",
      "9        5017    yes  \n",
      "\n",
      "[10 rows x 22 columns]\n"
     ]
    }
   ],
   "source": [
    "print(dataset4.head(10).collect())"
   ]
  },
  {
   "cell_type": "code",
   "execution_count": 12,
   "metadata": {
    "scrolled": true
   },
   "outputs": [
    {
     "name": "stdout",
     "output_type": "stream",
     "text": [
      "      ID  AGE         JOB   MARITAL            EDUCATION DBM_DEFAULT HOUSING  \\\n",
      "0  36349   67      admin.   married             basic.4y     unknown     yes   \n",
      "1  29567   68     retired   married          high.school          no     yes   \n",
      "2  38868   64     retired   married          high.school          no     yes   \n",
      "3  38879   77     retired  divorced             basic.4y          no     yes   \n",
      "4  38885   68     retired   married          high.school          no      no   \n",
      "5  38943   78     retired   married  professional.course          no      no   \n",
      "6  38946   67     retired   married             basic.4y          no      no   \n",
      "7  29669   71     retired   married    university.degree          no      no   \n",
      "8  38456   98     retired   married             basic.4y     unknown     yes   \n",
      "9  38467   61  management   married    university.degree          no      no   \n",
      "\n",
      "  LOAN    CONTACT DBM_MONTH  ...   CAMPAIGN  PDAYS  PREVIOUS     POUTCOME  \\\n",
      "0   no   cellular       jun  ...          2    999         1      failure   \n",
      "1   no   cellular       apr  ...          1    999         0  nonexistent   \n",
      "2   no   cellular       nov  ...          4    999         2      failure   \n",
      "3   no   cellular       nov  ...          2    999         1      failure   \n",
      "4   no   cellular       nov  ...          2    999         1      failure   \n",
      "5   no   cellular       nov  ...          2    999         1      failure   \n",
      "6   no  telephone       nov  ...          4    999         1      failure   \n",
      "7   no   cellular       apr  ...          1    999         0  nonexistent   \n",
      "8   no   cellular       oct  ...          2    999         0  nonexistent   \n",
      "9   no   cellular       oct  ...          4    999         0  nonexistent   \n",
      "\n",
      "   EMP_VAR_RATE CONS_PRICE_IDX  CONS_CONF_IDX  EURIBOR3M  NREMPLOYED  LABEL  \n",
      "0          -2.9         92.963          -40.8      1.262        5076     no  \n",
      "1          -1.8         93.075          -47.1      1.405        5099    yes  \n",
      "2          -3.4         92.649          -30.1      0.714        5017     no  \n",
      "3          -3.4         92.649          -30.1      0.714        5017    yes  \n",
      "4          -3.4         92.649          -30.1      0.714        5017    yes  \n",
      "5          -3.4         92.649          -30.1      0.718        5017    yes  \n",
      "6          -3.4         92.649          -30.1      0.718        5017     no  \n",
      "7          -1.8         93.075          -47.1      1.405        5099    yes  \n",
      "8          -3.4         92.431          -26.9      0.730        5017    yes  \n",
      "9          -3.4         92.431          -26.9      0.730        5017     no  \n",
      "\n",
      "[10 rows x 22 columns]\n"
     ]
    }
   ],
   "source": [
    "print(dataset4.filter('AGE > 60').head(10).collect())"
   ]
  },
  {
   "cell_type": "code",
   "execution_count": 13,
   "metadata": {
    "collapsed": true
   },
   "outputs": [],
   "source": [
    "pd1 = dataset4.filter('AGE>60').head(10).collect()"
   ]
  },
  {
   "cell_type": "code",
   "execution_count": 14,
   "metadata": {},
   "outputs": [
    {
     "name": "stdout",
     "output_type": "stream",
     "text": [
      "<class 'pandas.core.frame.DataFrame'>\n"
     ]
    }
   ],
   "source": [
    "print(type(pd1))"
   ]
  },
  {
   "cell_type": "code",
   "execution_count": 15,
   "metadata": {},
   "outputs": [
    {
     "data": {
      "text/plain": [
       "<hana_ml.dataframe.DataFrame at 0x88442b0>"
      ]
     },
     "execution_count": 15,
     "metadata": {},
     "output_type": "execute_result"
    }
   ],
   "source": [
    "dataset4.filter('AGE>60').sort(['AGE'])"
   ]
  },
  {
   "cell_type": "code",
   "execution_count": 16,
   "metadata": {},
   "outputs": [
    {
     "name": "stdout",
     "output_type": "stream",
     "text": [
      "      ID  AGE         JOB  MARITAL            EDUCATION DBM_DEFAULT HOUSING  \\\n",
      "0  38565   61  technician  married  professional.course          no      no   \n",
      "\n",
      "  LOAN   CONTACT DBM_MONTH  ...   CAMPAIGN  PDAYS  PREVIOUS  POUTCOME  \\\n",
      "0   no  cellular       oct  ...          2    999         1   failure   \n",
      "\n",
      "   EMP_VAR_RATE CONS_PRICE_IDX  CONS_CONF_IDX  EURIBOR3M  NREMPLOYED  LABEL  \n",
      "0          -3.4         92.431          -26.9      0.722        5017    yes  \n",
      "\n",
      "[1 rows x 22 columns]\n"
     ]
    }
   ],
   "source": [
    "print(dataset4.filter('AGE>60').sort(['AGE']).head(1).collect())"
   ]
  },
  {
   "cell_type": "code",
   "execution_count": 17,
   "metadata": {},
   "outputs": [],
   "source": [
    "condition = '{}.\"ID\"={}.\"ID\"'.format(dataset4.quoted_name, dataset2.quoted_name)\n",
    "dataset5 = dataset4.join(dataset2, condition)"
   ]
  },
  {
   "cell_type": "code",
   "execution_count": 18,
   "metadata": {},
   "outputs": [
    {
     "name": "stdout",
     "output_type": "stream",
     "text": [
      "      ID  AGE     JOB  MARITAL EDUCATION DBM_DEFAULT HOUSING LOAN   CONTACT  \\\n",
      "0  28115   41  admin.  married  basic.6y          no      no   no  cellular   \n",
      "\n",
      "  DBM_MONTH  ...   CAMPAIGN  PDAYS  PREVIOUS  POUTCOME  EMP_VAR_RATE  \\\n",
      "0       apr  ...          2    999         1   failure          -1.8   \n",
      "\n",
      "  CONS_PRICE_IDX  CONS_CONF_IDX  EURIBOR3M  NREMPLOYED  LABEL  \n",
      "0         93.075          -47.1      1.479        5099    yes  \n",
      "\n",
      "[1 rows x 44 columns]\n"
     ]
    }
   ],
   "source": [
    "print(dataset5.head(1).collect())"
   ]
  },
  {
   "cell_type": "code",
   "execution_count": 19,
   "metadata": {
    "collapsed": true
   },
   "outputs": [],
   "source": [
    "dataset6 = dataset4.select(\"ID\", \"AGE\", \"JOB\")"
   ]
  },
  {
   "cell_type": "code",
   "execution_count": 20,
   "metadata": {},
   "outputs": [
    {
     "name": "stdout",
     "output_type": "stream",
     "text": [
      "      ID  AGE     JOB\n",
      "0  28115   41  admin.\n"
     ]
    }
   ],
   "source": [
    "print(dataset6.head().collect())"
   ]
  },
  {
   "cell_type": "code",
   "execution_count": 21,
   "metadata": {
    "collapsed": true
   },
   "outputs": [],
   "source": [
    "dataset7 = dataset4.select(\"ID\", \"AGE\", \"JOB\", ('\"AGE\"*2', \"TWICE_AGE\"))"
   ]
  },
  {
   "cell_type": "code",
   "execution_count": 22,
   "metadata": {},
   "outputs": [
    {
     "name": "stdout",
     "output_type": "stream",
     "text": [
      "      ID  AGE     JOB  TWICE_AGE\n",
      "0  28115   41  admin.         82\n"
     ]
    }
   ],
   "source": [
    "print(dataset7.head().collect())"
   ]
  },
  {
   "cell_type": "code",
   "execution_count": 23,
   "metadata": {},
   "outputs": [
    {
     "data": {
      "text/plain": [
       "<hana_ml.dataframe.DataFrame at 0x9fcb8d0>"
      ]
     },
     "execution_count": 23,
     "metadata": {},
     "output_type": "execute_result"
    }
   ],
   "source": [
    "dataset7.save(\"#MYTEST\")"
   ]
  },
  {
   "cell_type": "code",
   "execution_count": 24,
   "metadata": {
    "collapsed": true
   },
   "outputs": [],
   "source": [
    "dataset8 = connection_context.table(\"#MYTEST\")"
   ]
  },
  {
   "cell_type": "code",
   "execution_count": 25,
   "metadata": {},
   "outputs": [
    {
     "name": "stdout",
     "output_type": "stream",
     "text": [
      "      ID  AGE     JOB  TWICE_AGE\n",
      "0  28115   41  admin.         82\n"
     ]
    }
   ],
   "source": [
    "print(dataset8.head().collect())"
   ]
  },
  {
   "cell_type": "code",
   "execution_count": null,
   "metadata": {
    "collapsed": true
   },
   "outputs": [],
   "source": []
  }
 ],
 "metadata": {
  "kernelspec": {
   "display_name": "Python 2",
   "language": "python",
   "name": "python2"
  },
  "language_info": {
   "codemirror_mode": {
    "name": "ipython",
    "version": 2
   },
   "file_extension": ".py",
   "mimetype": "text/x-python",
   "name": "python",
   "nbconvert_exporter": "python",
   "pygments_lexer": "ipython2",
   "version": "2.7.15"
  }
 },
 "nbformat": 4,
 "nbformat_minor": 2
}
