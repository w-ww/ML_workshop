{
 "cells": [
  {
   "cell_type": "markdown",
   "metadata": {},
   "source": [
    "# Bank Marketing Data Set (Save Model)\n",
    "The data is related with direct marketing campaigns of a Portuguese banking institution.  The marketing campaigns were based on phone calls.  A number of features such as age, kind of job, marital status, education level, credit default, existence of housing loan, etc. were considered.  The classification goal is to predict if the client will subscribe (yes/no) a term deposit.\n",
    "\n",
    "More information regarding the data set is at https://archive.ics.uci.edu/ml/datasets/bank+marketing#.\n",
    "\n",
    "<font color=blue>__ _The objective is to show the need for storing a model.  A rudimentary hack to store the model is implemented._ __</font>\n",
    "\n",
    "## Attribute Information:\n",
    "\n",
    "### Input variables:\n",
    "#### Bank client data:\n",
    "1. age (numeric)\n",
    "2. job : type of job (categorical: 'admin.','blue-collar','entrepreneur','housemaid','management','retired','self-employed','services','student','technician','unemployed','unknown')\n",
    "3. marital : marital status (categorical: 'divorced','married','single','unknown'; note: 'divorced' means divorced or widowed)\n",
    "4. education (categorical: 'basic.4y','basic.6y','basic.9y','high.school','illiterate','professional.course','university.degree','unknown')\n",
    "5. default: has credit in default? (categorical: 'no','yes','unknown')\n",
    "6. housing: has housing loan? (categorical: 'no','yes','unknown')\n",
    "7. loan: has personal loan? (categorical: 'no','yes','unknown')\n",
    "\n",
    "#### Related with the last contact of the current campaign:\n",
    "8. contact: contact communication type (categorical: 'cellular','telephone') \n",
    "9. month: last contact month of year (categorical: 'jan', 'feb', 'mar', ..., 'nov', 'dec')\n",
    "10. day_of_week: last contact day of the week (categorical: 'mon','tue','wed','thu','fri')\n",
    "11. duration: last contact duration, in seconds (numeric). Important note: this attribute highly affects the output target (e.g., if duration=0 then y='no'). Yet, the duration is not known before a call is performed. Also, after the end of the call y is obviously known. Thus, this input should only be included for benchmark purposes and should be discarded if the intention is to have a realistic predictive model.\n",
    "\n",
    "#### Other attributes:\n",
    "12. campaign: number of contacts performed during this campaign and for this client (numeric, includes last contact)\n",
    "13. pdays: number of days that passed by after the client was last contacted from a previous campaign (numeric; 999 means client was not previously contacted)\n",
    "14. previous: number of contacts performed before this campaign and for this client (numeric)\n",
    "15. poutcome: outcome of the previous marketing campaign (categorical: 'failure','nonexistent','success')\n",
    "\n",
    "#### Social and economic context attributes:\n",
    "16. emp.var.rate: employment variation rate - quarterly indicator (numeric)\n",
    "17. cons.price.idx: consumer price index - monthly indicator (numeric) \n",
    "18. cons.conf.idx: consumer confidence index - monthly indicator (numeric) \n",
    "19. euribor3m: euribor 3 month rate - daily indicator (numeric)\n",
    "20. nr.employed: number of employees - quarterly indicator (numeric)\n",
    "\n",
    "### Output variable (desired target):\n",
    "21. y - has the client subscribed a term deposit? (binary: 'yes','no')\n",
    "\n",
    "## Import packages"
   ]
  },
  {
   "cell_type": "code",
   "execution_count": 1,
   "metadata": {
    "collapsed": true
   },
   "outputs": [],
   "source": [
    "from hana_ml import dataframe\n",
    "from hana_ml import algorithms\n",
    "from hana_ml.algorithms import linear_model\n",
    "from hana_ml.algorithms import clustering\n",
    "import numpy as np\n",
    "import matplotlib.pyplot as plt\n",
    "import logging"
   ]
  },
  {
   "cell_type": "markdown",
   "metadata": {},
   "source": [
    "## Setup logging"
   ]
  },
  {
   "cell_type": "code",
   "execution_count": 2,
   "metadata": {
    "collapsed": true
   },
   "outputs": [],
   "source": [
    "logging.basicConfig()\n",
    "logger = logging.getLogger('hana_ml.ml_base')\n",
    "logger.setLevel(logging.INFO)\n",
    "logger.addHandler(logging.NullHandler())"
   ]
  },
  {
   "cell_type": "markdown",
   "metadata": {},
   "source": [
    "## Setup connection and data sets\n",
    "The data is loaded into 4 tables - full set, test set, training set, and the validation set:\n",
    "<li>DBM2_RFULL_TBL</li>\n",
    "<li>DBM2_RTEST_TBL</li>\n",
    "<li>DBM2_RTRAINING_TBL</li>\n",
    "<li>DBM2_RVALIDATION_TBL</li>\n",
    "\n",
    "To do that, a connection is created and passed to the loader.\n",
    "\n",
    "There is a config file, <b>config/e2edata.ini</b> that controls the connection parameters and whether or not to reload the data from scratch.  In case the data is already loaded, there would be no need to load the data.  A sample section is below.  If the config parameter, reload_data is true then the tables for test, training, and validation are (re-)created and data inserted into them.\n",
    "\n",
    "#########################<br>\n",
    "[hana]<br>\n",
    "url=host.sjc.sap.corp<br>\n",
    "user=username<br>\n",
    "passwd=userpassword<br>\n",
    "port=3xx15<br>\n",
    "<br>\n",
    "\n",
    "#########################<br>"
   ]
  },
  {
   "cell_type": "code",
   "execution_count": 3,
   "metadata": {
    "collapsed": true
   },
   "outputs": [],
   "source": [
    "from data_load_utils import DataSets, Settings\n",
    "url, port, user, pwd = Settings.load_config(\"../config/e2edata.ini\")\n",
    "connection_context = dataframe.ConnectionContext(url, port, user, pwd)\n",
    "full_tbl, training_tbl, validation_tbl, test_tbl = DataSets.load_bank_data(connection_context)\n",
    "training_set = connection_context.table(training_tbl)\n",
    "validation_set = connection_context.table(validation_tbl)\n",
    "features = ['AGE','JOB','MARITAL','EDUCATION','DBM_DEFAULT', 'HOUSING','LOAN','CONTACT','DBM_MONTH','DAY_OF_WEEK','DURATION','CAMPAIGN','PDAYS','PREVIOUS','POUTCOME','EMP_VAR_RATE','CONS_PRICE_IDX','CONS_CONF_IDX','EURIBOR3M','NREMPLOYED']\n",
    "label = \"LABEL\""
   ]
  },
  {
   "cell_type": "markdown",
   "metadata": {},
   "source": [
    "# Create model\n",
    "Use a specific value for the hyper parameters to keep it simple.  In this case the hyperparameters are lamb and alpha corresponding to enet_lambda and enet_alpha."
   ]
  },
  {
   "cell_type": "code",
   "execution_count": 4,
   "metadata": {},
   "outputs": [
    {
     "name": "stdout",
     "output_type": "stream",
     "text": [
      "Accuracy=0.915013\n"
     ]
    }
   ],
   "source": [
    "lr = linear_model.LogisticRegression(connection_context, solver='Cyclical', tol=0.000001, max_iter=10000, stat_inf=True,\n",
    "                                       pmml_export='multi-row', lamb=0.000, alpha=0.010, \n",
    "                                       class_map0='no', class_map1='yes')\n",
    "\n",
    "lr.fit(training_set, features=features, label=label)\n",
    "\n",
    "accuracy_val = lr.score(validation_set, 'ID', features=features, label=label)\n",
    "print('Accuracy=%f' %(accuracy_val))\n",
    "\n",
    "# Model has already been persisted.\n",
    "#model_persistence.save(connection_context, lr, 'nk_lr')"
   ]
  },
  {
   "cell_type": "markdown",
   "metadata": {},
   "source": [
    "## Model Analysis\n",
    "For simplicity, just look at coefficients to see if they are all meaningful.  In general, one may want to do PCA and graph the data to see what features should be used so that the model generalizes well.  In addition, see which features affect the outcome.\n",
    "\n",
    "Note the statement below.  The absolute value of the coefficient is calculated and sorted on this absolute value.  The method collect() is what brings the data to the client, otherwise all the computation is on the server and the data (actually just a reference to the data set as defined by a SQL statement) remains there."
   ]
  },
  {
   "cell_type": "code",
   "execution_count": 5,
   "metadata": {},
   "outputs": [
    {
     "name": "stdout",
     "output_type": "stream",
     "text": [
      "                                  VARIABLE_NAME  COEFFICIENT  ABS_COEFFICIENT\n",
      "0                             __PAL_INTERCEPT__   -53.920002        53.920002\n",
      "1                   DBM_MONTH__PAL_DELIMIT__mar     1.616431         1.616431\n",
      "2                POUTCOME__PAL_DELIMIT__success     1.056200         1.056200\n",
      "3                                  EMP_VAR_RATE    -1.053383         1.053383\n",
      "4                                CONS_PRICE_IDX     1.016365         1.016365\n",
      "5            EDUCATION__PAL_DELIMIT__illiterate     0.950523         0.950523\n",
      "6                   DBM_MONTH__PAL_DELIMIT__may    -0.688407         0.688407\n",
      "7               CONTACT__PAL_DELIMIT__telephone    -0.634011         0.634011\n",
      "8                   DBM_MONTH__PAL_DELIMIT__sep    -0.590638         0.590638\n",
      "9                                     EURIBOR3M     0.509001         0.509001\n",
      "10                  DBM_MONTH__PAL_DELIMIT__nov    -0.498424         0.498424\n",
      "11           POUTCOME__PAL_DELIMIT__nonexistent     0.490490         0.490490\n",
      "12                  DBM_MONTH__PAL_DELIMIT__aug     0.420589         0.420589\n",
      "13            DBM_DEFAULT__PAL_DELIMIT__unknown    -0.413933         0.413933\n",
      "14                  DBM_MONTH__PAL_DELIMIT__oct    -0.389964         0.389964\n",
      "15                DAY_OF_WEEK__PAL_DELIMIT__mon    -0.346764         0.346764\n",
      "16               JOB__PAL_DELIMIT__entrepreneur    -0.329727         0.329727\n",
      "17                JOB__PAL_DELIMIT__blue-collar    -0.327938         0.327938\n",
      "18                    JOB__PAL_DELIMIT__unknown    -0.324558         0.324558\n",
      "19                    JOB__PAL_DELIMIT__retired     0.263860         0.263860\n",
      "20                DAY_OF_WEEK__PAL_DELIMIT__thu     0.242970         0.242970\n",
      "21          EDUCATION__PAL_DELIMIT__high.school    -0.197361         0.197361\n",
      "22                  JOB__PAL_DELIMIT__housemaid    -0.188062         0.188062\n",
      "23                   JOB__PAL_DELIMIT__services    -0.170850         0.170850\n",
      "24              JOB__PAL_DELIMIT__self-employed    -0.170751         0.170751\n",
      "25                DAY_OF_WEEK__PAL_DELIMIT__wed     0.155342         0.155342\n",
      "26                    JOB__PAL_DELIMIT__student     0.139087         0.139087\n",
      "27                  DBM_MONTH__PAL_DELIMIT__dec     0.139039         0.139039\n",
      "28              EDUCATION__PAL_DELIMIT__unknown    -0.131896         0.131896\n",
      "29                 JOB__PAL_DELIMIT__management    -0.120034         0.120034\n",
      "..                                          ...          ...              ...\n",
      "33                DAY_OF_WEEK__PAL_DELIMIT__tue     0.085930         0.085930\n",
      "34                 MARITAL__PAL_DELIMIT__single     0.084108         0.084108\n",
      "35                 JOB__PAL_DELIMIT__technician    -0.072865         0.072865\n",
      "36  EDUCATION__PAL_DELIMIT__professional.course    -0.065363         0.065363\n",
      "37             EDUCATION__PAL_DELIMIT__basic.9y    -0.046073         0.046073\n",
      "38                       LOAN__PAL_DELIMIT__yes    -0.039362         0.039362\n",
      "39                  DBM_MONTH__PAL_DELIMIT__jul    -0.036629         0.036629\n",
      "40                                     PREVIOUS    -0.029727         0.029727\n",
      "41                                     CAMPAIGN    -0.026349         0.026349\n",
      "42                HOUSING__PAL_DELIMIT__unknown    -0.024940         0.024940\n",
      "43                 JOB__PAL_DELIMIT__unemployed    -0.013385         0.013385\n",
      "44               MARITAL__PAL_DELIMIT__divorced    -0.011108         0.011108\n",
      "45                                CONS_CONF_IDX     0.010245         0.010245\n",
      "46                                   NREMPLOYED    -0.008884         0.008884\n",
      "47                   LOAN__PAL_DELIMIT__unknown    -0.006800         0.006800\n",
      "48                                     DURATION     0.004801         0.004801\n",
      "49                    HOUSING__PAL_DELIMIT__yes    -0.001912         0.001912\n",
      "50                MARITAL__PAL_DELIMIT__unknown    -0.001734         0.001734\n",
      "51                                          AGE     0.001116         0.001116\n",
      "52                                        PDAYS    -0.000796         0.000796\n",
      "53                DAY_OF_WEEK__PAL_DELIMIT__fri     0.000000         0.000000\n",
      "54                  DBM_MONTH__PAL_DELIMIT__apr     0.000000         0.000000\n",
      "55               CONTACT__PAL_DELIMIT__cellular     0.000000         0.000000\n",
      "56                        LOAN__PAL_DELIMIT__no     0.000000         0.000000\n",
      "57               POUTCOME__PAL_DELIMIT__failure     0.000000         0.000000\n",
      "58                     HOUSING__PAL_DELIMIT__no     0.000000         0.000000\n",
      "59                 DBM_DEFAULT__PAL_DELIMIT__no     0.000000         0.000000\n",
      "60             EDUCATION__PAL_DELIMIT__basic.6y     0.000000         0.000000\n",
      "61                MARITAL__PAL_DELIMIT__married     0.000000         0.000000\n",
      "62                     JOB__PAL_DELIMIT__admin.     0.000000         0.000000\n",
      "\n",
      "[63 rows x 3 columns]\n"
     ]
    }
   ],
   "source": [
    "print(lr.coef_.select('*', ('abs(\"COEFFICIENT\")', 'ABS_COEFFICIENT')).sort(['ABS_COEFFICIENT'], desc=True).collect())"
   ]
  },
  {
   "cell_type": "markdown",
   "metadata": {},
   "source": [
    "# Save Model\n",
    "What we want to be able to do now is to save the model using a save command on the LogisticRegression object.\n",
    "Below is a hack that saves the PMML model to a specific table.  In general, we would want to save many attributes including the __coefficients__ so they can be compared to other models that are saved."
   ]
  },
  {
   "cell_type": "code",
   "execution_count": 6,
   "metadata": {},
   "outputs": [
    {
     "name": "stdout",
     "output_type": "stream",
     "text": [
      "SELECT * FROM \"#LR_RESULT_TBL_0\"\n"
     ]
    },
    {
     "data": {
      "text/plain": [
       "<hana_ml.dataframe.DataFrame at 0x7f551386e090>"
      ]
     },
     "execution_count": 6,
     "metadata": {},
     "output_type": "execute_result"
    }
   ],
   "source": [
    "print(lr.result_.select_statement)\n",
    "with connection_context.connection.cursor() as cur:\n",
    "    try:\n",
    "        cur.execute('DROP TABLE {0}'.format(\"MYMODEL\"))\n",
    "    except:\n",
    "        pass\n",
    "lr.result_.save(\"MYMODEL\")   # save(\"scenario-name\", \"description\", \"model-name\")\n",
    "#  SAVE MODEL ....  This is not the desired API and is only for illustration\n",
    "# model.add_attribute(\"paramters\", (enet_alpha,...))\n",
    "# model.add_attribute(\"data set used\", ...)\n",
    "# model.add_attribute(\"tested by\", \"nanda\")\n",
    "# model.add_attribute(\"coefficients\", lr.coef_)"
   ]
  },
  {
   "cell_type": "code",
   "execution_count": 7,
   "metadata": {},
   "outputs": [
    {
     "name": "stdout",
     "output_type": "stream",
     "text": [
      "SELECT * FROM \"MYMODEL\"\n"
     ]
    }
   ],
   "source": [
    "df = connection_context.table(\"MYMODEL\")\n",
    "print(df.select_statement)"
   ]
  },
  {
   "cell_type": "code",
   "execution_count": null,
   "metadata": {
    "collapsed": true
   },
   "outputs": [],
   "source": []
  }
 ],
 "metadata": {
  "kernelspec": {
   "display_name": "Python 2",
   "language": "python",
   "name": "python2"
  },
  "language_info": {
   "codemirror_mode": {
    "name": "ipython",
    "version": 2
   },
   "file_extension": ".py",
   "mimetype": "text/x-python",
   "name": "python",
   "nbconvert_exporter": "python",
   "pygments_lexer": "ipython2",
   "version": "2.7.13"
  }
 },
 "nbformat": 4,
 "nbformat_minor": 2
}
